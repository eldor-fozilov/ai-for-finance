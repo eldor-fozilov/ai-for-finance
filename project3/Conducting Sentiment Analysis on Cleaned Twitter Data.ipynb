{
 "cells": [
  {
   "cell_type": "code",
   "execution_count": 1,
   "metadata": {},
   "outputs": [],
   "source": [
    "# Import necessary libraries\n",
    "\n",
    "import pandas as pd\n",
    "import matplotlib.pyplot as plt\n",
    "import nltk\n",
    "import re\n",
    "from textblob import TextBlob\n",
    "%matplotlib inline\n",
    "import seaborn as sns"
   ]
  },
  {
   "cell_type": "code",
   "execution_count": 2,
   "metadata": {
    "scrolled": true
   },
   "outputs": [
    {
     "data": {
      "text/html": [
       "<div>\n",
       "<style scoped>\n",
       "    .dataframe tbody tr th:only-of-type {\n",
       "        vertical-align: middle;\n",
       "    }\n",
       "\n",
       "    .dataframe tbody tr th {\n",
       "        vertical-align: top;\n",
       "    }\n",
       "\n",
       "    .dataframe thead th {\n",
       "        text-align: right;\n",
       "    }\n",
       "</style>\n",
       "<table border=\"1\" class=\"dataframe\">\n",
       "  <thead>\n",
       "    <tr style=\"text-align: right;\">\n",
       "      <th></th>\n",
       "      <th>id</th>\n",
       "      <th>date</th>\n",
       "      <th>cleaned_tweet</th>\n",
       "    </tr>\n",
       "  </thead>\n",
       "  <tbody>\n",
       "    <tr>\n",
       "      <th>0</th>\n",
       "      <td>1212450794705969152</td>\n",
       "      <td>2020-01-02</td>\n",
       "      <td>fun fact audi register e tron netherlands   su...</td>\n",
       "    </tr>\n",
       "    <tr>\n",
       "      <th>1</th>\n",
       "      <td>1212450579634626560</td>\n",
       "      <td>2020-01-02</td>\n",
       "      <td>mf  stock watch shit go damn year miss curve</td>\n",
       "    </tr>\n",
       "    <tr>\n",
       "      <th>2</th>\n",
       "      <td>1212450337543602177</td>\n",
       "      <td>2020-01-02</td>\n",
       "      <td>icannot enough june th within day  low reply c...</td>\n",
       "    </tr>\n",
       "    <tr>\n",
       "      <th>3</th>\n",
       "      <td>1212450309131227141</td>\n",
       "      <td>2020-01-02</td>\n",
       "      <td>gain momentum taiwan ownerstwn     taiwan</td>\n",
       "    </tr>\n",
       "    <tr>\n",
       "      <th>4</th>\n",
       "      <td>1212449703318753280</td>\n",
       "      <td>2020-01-02</td>\n",
       "      <td>schuldensuehner extrapolate number another two...</td>\n",
       "    </tr>\n",
       "  </tbody>\n",
       "</table>\n",
       "</div>"
      ],
      "text/plain": [
       "                    id        date  \\\n",
       "0  1212450794705969152  2020-01-02   \n",
       "1  1212450579634626560  2020-01-02   \n",
       "2  1212450337543602177  2020-01-02   \n",
       "3  1212450309131227141  2020-01-02   \n",
       "4  1212449703318753280  2020-01-02   \n",
       "\n",
       "                                       cleaned_tweet  \n",
       "0  fun fact audi register e tron netherlands   su...  \n",
       "1       mf  stock watch shit go damn year miss curve  \n",
       "2  icannot enough june th within day  low reply c...  \n",
       "3          gain momentum taiwan ownerstwn     taiwan  \n",
       "4  schuldensuehner extrapolate number another two...  "
      ]
     },
     "execution_count": 2,
     "metadata": {},
     "output_type": "execute_result"
    }
   ],
   "source": [
    "# Read in and preview 'cleaned_data.csv'\n",
    "tweets = pd.read_csv('cleaned_data.csv')\n",
    "tweets = tweets.iloc[:, [0, 1, 4]]\n",
    "tweets.head()"
   ]
  },
  {
   "cell_type": "code",
   "execution_count": 3,
   "metadata": {},
   "outputs": [
    {
     "name": "stdout",
     "output_type": "stream",
     "text": [
      "<class 'pandas.core.frame.DataFrame'>\n",
      "RangeIndex: 113741 entries, 0 to 113740\n",
      "Data columns (total 3 columns):\n",
      " #   Column         Non-Null Count   Dtype \n",
      "---  ------         --------------   ----- \n",
      " 0   id             113741 non-null  int64 \n",
      " 1   date           113741 non-null  object\n",
      " 2   cleaned_tweet  109112 non-null  object\n",
      "dtypes: int64(1), object(2)\n",
      "memory usage: 2.6+ MB\n"
     ]
    }
   ],
   "source": [
    "# Look at tesla_tweets data types\n",
    "\n",
    "tweets.info()"
   ]
  },
  {
   "cell_type": "code",
   "execution_count": 4,
   "metadata": {},
   "outputs": [
    {
     "name": "stdout",
     "output_type": "stream",
     "text": [
      "<class 'pandas.core.frame.DataFrame'>\n",
      "RangeIndex: 113741 entries, 0 to 113740\n",
      "Data columns (total 3 columns):\n",
      " #   Column         Non-Null Count   Dtype         \n",
      "---  ------         --------------   -----         \n",
      " 0   id             113741 non-null  int64         \n",
      " 1   date           113741 non-null  datetime64[ns]\n",
      " 2   cleaned_tweet  109112 non-null  object        \n",
      "dtypes: datetime64[ns](1), int64(1), object(1)\n",
      "memory usage: 2.6+ MB\n"
     ]
    }
   ],
   "source": [
    "# Convert date_time column into datetime stamp\n",
    "\n",
    "tweets.date = pd.to_datetime(tweets.date)\n",
    "tweets.info()"
   ]
  },
  {
   "cell_type": "code",
   "execution_count": 5,
   "metadata": {},
   "outputs": [
    {
     "data": {
      "text/plain": [
       "id                  0\n",
       "date                0\n",
       "cleaned_tweet    4629\n",
       "dtype: int64"
      ]
     },
     "execution_count": 5,
     "metadata": {},
     "output_type": "execute_result"
    }
   ],
   "source": [
    "# Check for null values\n",
    "\n",
    "tweets.isnull().sum()"
   ]
  },
  {
   "cell_type": "code",
   "execution_count": 6,
   "metadata": {},
   "outputs": [],
   "source": [
    "# Drop null values\n",
    "\n",
    "tweets = tweets.dropna()"
   ]
  },
  {
   "cell_type": "markdown",
   "metadata": {},
   "source": [
    "### 1. Calculate Sentiment Score with TextBlob"
   ]
  },
  {
   "cell_type": "code",
   "execution_count": 7,
   "metadata": {},
   "outputs": [
    {
     "data": {
      "text/html": [
       "<div>\n",
       "<style scoped>\n",
       "    .dataframe tbody tr th:only-of-type {\n",
       "        vertical-align: middle;\n",
       "    }\n",
       "\n",
       "    .dataframe tbody tr th {\n",
       "        vertical-align: top;\n",
       "    }\n",
       "\n",
       "    .dataframe thead th {\n",
       "        text-align: right;\n",
       "    }\n",
       "</style>\n",
       "<table border=\"1\" class=\"dataframe\">\n",
       "  <thead>\n",
       "    <tr style=\"text-align: right;\">\n",
       "      <th></th>\n",
       "      <th>id</th>\n",
       "      <th>date</th>\n",
       "      <th>cleaned_tweet</th>\n",
       "      <th>sentiment</th>\n",
       "    </tr>\n",
       "  </thead>\n",
       "  <tbody>\n",
       "    <tr>\n",
       "      <th>0</th>\n",
       "      <td>1212450794705969152</td>\n",
       "      <td>2020-01-02</td>\n",
       "      <td>fun fact audi register e tron netherlands   su...</td>\n",
       "      <td>0.15</td>\n",
       "    </tr>\n",
       "    <tr>\n",
       "      <th>1</th>\n",
       "      <td>1212450579634626560</td>\n",
       "      <td>2020-01-02</td>\n",
       "      <td>mf  stock watch shit go damn year miss curve</td>\n",
       "      <td>-0.20</td>\n",
       "    </tr>\n",
       "    <tr>\n",
       "      <th>2</th>\n",
       "      <td>1212450337543602177</td>\n",
       "      <td>2020-01-02</td>\n",
       "      <td>icannot enough june th within day  low reply c...</td>\n",
       "      <td>0.20</td>\n",
       "    </tr>\n",
       "    <tr>\n",
       "      <th>3</th>\n",
       "      <td>1212450309131227141</td>\n",
       "      <td>2020-01-02</td>\n",
       "      <td>gain momentum taiwan ownerstwn     taiwan</td>\n",
       "      <td>0.00</td>\n",
       "    </tr>\n",
       "    <tr>\n",
       "      <th>4</th>\n",
       "      <td>1212449703318753280</td>\n",
       "      <td>2020-01-02</td>\n",
       "      <td>schuldensuehner extrapolate number another two...</td>\n",
       "      <td>0.75</td>\n",
       "    </tr>\n",
       "  </tbody>\n",
       "</table>\n",
       "</div>"
      ],
      "text/plain": [
       "                    id       date  \\\n",
       "0  1212450794705969152 2020-01-02   \n",
       "1  1212450579634626560 2020-01-02   \n",
       "2  1212450337543602177 2020-01-02   \n",
       "3  1212450309131227141 2020-01-02   \n",
       "4  1212449703318753280 2020-01-02   \n",
       "\n",
       "                                       cleaned_tweet  sentiment  \n",
       "0  fun fact audi register e tron netherlands   su...       0.15  \n",
       "1       mf  stock watch shit go damn year miss curve      -0.20  \n",
       "2  icannot enough june th within day  low reply c...       0.20  \n",
       "3          gain momentum taiwan ownerstwn     taiwan       0.00  \n",
       "4  schuldensuehner extrapolate number another two...       0.75  "
      ]
     },
     "execution_count": 7,
     "metadata": {},
     "output_type": "execute_result"
    }
   ],
   "source": [
    "# Use TextBlob to get sentiment scores\n",
    "\n",
    "tweets['sentiment'] = tweets.apply(lambda row: TextBlob(row.cleaned_tweet).sentiment[0], axis=1)\n",
    "tweets.head()"
   ]
  },
  {
   "cell_type": "code",
   "execution_count": 8,
   "metadata": {},
   "outputs": [
    {
     "data": {
      "text/html": [
       "<div>\n",
       "<style scoped>\n",
       "    .dataframe tbody tr th:only-of-type {\n",
       "        vertical-align: middle;\n",
       "    }\n",
       "\n",
       "    .dataframe tbody tr th {\n",
       "        vertical-align: top;\n",
       "    }\n",
       "\n",
       "    .dataframe thead th {\n",
       "        text-align: right;\n",
       "    }\n",
       "</style>\n",
       "<table border=\"1\" class=\"dataframe\">\n",
       "  <thead>\n",
       "    <tr style=\"text-align: right;\">\n",
       "      <th></th>\n",
       "      <th>Cleaned Tweet</th>\n",
       "      <th>TextBlob Sentiment</th>\n",
       "    </tr>\n",
       "  </thead>\n",
       "  <tbody>\n",
       "    <tr>\n",
       "      <th>83747</th>\n",
       "      <td>sgfreport lotta car ny lotta car birmingham end bnsf start richmond correspondant report never see many car</td>\n",
       "      <td>0.500000</td>\n",
       "    </tr>\n",
       "    <tr>\n",
       "      <th>109839</th>\n",
       "      <td>close friday reaffirms view oversupply  inventory hold hfs portfolio trading desk continue see active bm fund buying  bolster  delivery earnings catalyst</td>\n",
       "      <td>-0.133333</td>\n",
       "    </tr>\n",
       "    <tr>\n",
       "      <th>61943</th>\n",
       "      <td>aapl amzn btc eth fb goog msft  spy   cnbc  foxbusiness  business  money  entrepreneur  trading  invest  investment  stock  stockmarket  forex  crypto  cryptocurrency  bitcoin  ethereum  coinbase  robinhood</td>\n",
       "      <td>0.000000</td>\n",
       "    </tr>\n",
       "    <tr>\n",
       "      <th>64506</th>\n",
       "      <td>value invest company notable hedge fund manager bill ackman recommend principle look lens principle assessment  principle business must simple predictable</td>\n",
       "      <td>0.100000</td>\n",
       "    </tr>\n",
       "    <tr>\n",
       "      <th>42314</th>\n",
       "      <td>stars</td>\n",
       "      <td>0.000000</td>\n",
       "    </tr>\n",
       "    <tr>\n",
       "      <th>97402</th>\n",
       "      <td>elonmusk  news electric car sale double world big ev market</td>\n",
       "      <td>0.000000</td>\n",
       "    </tr>\n",
       "    <tr>\n",
       "      <th>97955</th>\n",
       "      <td>computer  today hardware dual system third one confirm neural network behave properly</td>\n",
       "      <td>0.000000</td>\n",
       "    </tr>\n",
       "    <tr>\n",
       "      <th>79240</th>\n",
       "      <td>ilikes think short bad short get  cheap theranos enron get expose</td>\n",
       "      <td>-0.075000</td>\n",
       "    </tr>\n",
       "    <tr>\n",
       "      <th>32378</th>\n",
       "      <td>jazziimania  peak price rona share dip way share mid march time get buy share ride gain per share  expensive right</td>\n",
       "      <td>-0.071429</td>\n",
       "    </tr>\n",
       "    <tr>\n",
       "      <th>75863</th>\n",
       "      <td>manage money en bwpfinance june own share  pop sell absolutely idea</td>\n",
       "      <td>0.400000</td>\n",
       "    </tr>\n",
       "  </tbody>\n",
       "</table>\n",
       "</div>"
      ],
      "text/plain": [
       "                                                                                                                                                                                                         Cleaned Tweet  \\\n",
       "83747                                                                                                    sgfreport lotta car ny lotta car birmingham end bnsf start richmond correspondant report never see many car     \n",
       "109839                                                       close friday reaffirms view oversupply  inventory hold hfs portfolio trading desk continue see active bm fund buying  bolster  delivery earnings catalyst   \n",
       "61943   aapl amzn btc eth fb goog msft  spy   cnbc  foxbusiness  business  money  entrepreneur  trading  invest  investment  stock  stockmarket  forex  crypto  cryptocurrency  bitcoin  ethereum  coinbase  robinhood   \n",
       "64506                                                       value invest company notable hedge fund manager bill ackman recommend principle look lens principle assessment  principle business must simple predictable   \n",
       "42314                                                                                                                                                                                                           stars    \n",
       "97402                                                                                                                                                      elonmusk  news electric car sale double world big ev market   \n",
       "97955                                                                                                                         computer  today hardware dual system third one confirm neural network behave properly      \n",
       "79240                                                                                                                                                ilikes think short bad short get  cheap theranos enron get expose   \n",
       "32378                                                                                               jazziimania  peak price rona share dip way share mid march time get buy share ride gain per share  expensive right   \n",
       "75863                                                                                                                                              manage money en bwpfinance june own share  pop sell absolutely idea   \n",
       "\n",
       "        TextBlob Sentiment  \n",
       "83747             0.500000  \n",
       "109839           -0.133333  \n",
       "61943             0.000000  \n",
       "64506             0.100000  \n",
       "42314             0.000000  \n",
       "97402             0.000000  \n",
       "97955             0.000000  \n",
       "79240            -0.075000  \n",
       "32378            -0.071429  \n",
       "75863             0.400000  "
      ]
     },
     "execution_count": 8,
     "metadata": {},
     "output_type": "execute_result"
    }
   ],
   "source": [
    "# Preview how sentiment scores differ on different tweets\n",
    "\n",
    "pd.options.display.max_colwidth = 300\n",
    "random_subset = tweets.sample(n=10)\n",
    "random_subset = random_subset.drop(columns=['id', 'date'])\n",
    "random_subset.rename(columns={'tweet':'Original Tweet'})\n",
    "random_subset = random_subset.rename(columns={'tweet': 'Original Tweet', 'cleaned_tweet': 'Cleaned Tweet', 'sentiment':'TextBlob Sentiment'})\n",
    "random_subset.head(10)"
   ]
  },
  {
   "cell_type": "code",
   "execution_count": 9,
   "metadata": {},
   "outputs": [
    {
     "data": {
      "text/plain": [
       "(109112, 4)"
      ]
     },
     "execution_count": 9,
     "metadata": {},
     "output_type": "execute_result"
    }
   ],
   "source": [
    "tweets.shape"
   ]
  },
  {
   "cell_type": "markdown",
   "metadata": {},
   "source": [
    "### 2. Frequency Analysis"
   ]
  },
  {
   "cell_type": "code",
   "execution_count": 10,
   "metadata": {},
   "outputs": [
    {
     "data": {
      "image/png": "[encoded data removed]",
      "text/plain": [
       "<Figure size 1152x648 with 1 Axes>"
      ]
     },
     "metadata": {
      "needs_background": "light"
     },
     "output_type": "display_data"
    }
   ],
   "source": [
    "# View count of tweets for binned sentiment\n",
    "\n",
    "bins = [-1.0, -0.8, -0.6, -.4, -.2, 0, 0.2, 0.4, 0.6, 0.8, 1]\n",
    "tweets['binned'] = pd.cut(tweets['sentiment'], bins)\n",
    "plt.figure(figsize=(16,9))\n",
    "ax = sns.countplot(x=tweets['binned'])\n",
    "ax.set_ylabel('Number of Tweets', fontsize=12)\n",
    "ax.set_xlabel('TextBlob Sentiment Score', fontsize=12)\n",
    "ax.set_xticklabels(ax.get_xticklabels(), rotation=40, ha=\"right\", fontsize=14)\n",
    "ax.set_title(\"Sentiment Tweet Counts\", fontsize=20)\n",
    "ax.set_ylim(0, 120000)\n",
    "plt.show()"
   ]
  },
  {
   "cell_type": "markdown",
   "metadata": {},
   "source": [
    "### 3. Calculate Daily Sentiment"
   ]
  },
  {
   "cell_type": "code",
   "execution_count": 11,
   "metadata": {},
   "outputs": [
    {
     "data": {
      "text/html": [
       "<div>\n",
       "<style scoped>\n",
       "    .dataframe tbody tr th:only-of-type {\n",
       "        vertical-align: middle;\n",
       "    }\n",
       "\n",
       "    .dataframe tbody tr th {\n",
       "        vertical-align: top;\n",
       "    }\n",
       "\n",
       "    .dataframe thead th {\n",
       "        text-align: right;\n",
       "    }\n",
       "</style>\n",
       "<table border=\"1\" class=\"dataframe\">\n",
       "  <thead>\n",
       "    <tr style=\"text-align: right;\">\n",
       "      <th></th>\n",
       "      <th>date</th>\n",
       "      <th>sentiment</th>\n",
       "    </tr>\n",
       "  </thead>\n",
       "  <tbody>\n",
       "    <tr>\n",
       "      <th>0</th>\n",
       "      <td>2020-01-02</td>\n",
       "      <td>0.15</td>\n",
       "    </tr>\n",
       "    <tr>\n",
       "      <th>1</th>\n",
       "      <td>2020-01-02</td>\n",
       "      <td>-0.20</td>\n",
       "    </tr>\n",
       "    <tr>\n",
       "      <th>2</th>\n",
       "      <td>2020-01-02</td>\n",
       "      <td>0.20</td>\n",
       "    </tr>\n",
       "    <tr>\n",
       "      <th>3</th>\n",
       "      <td>2020-01-02</td>\n",
       "      <td>0.00</td>\n",
       "    </tr>\n",
       "    <tr>\n",
       "      <th>4</th>\n",
       "      <td>2020-01-02</td>\n",
       "      <td>0.75</td>\n",
       "    </tr>\n",
       "  </tbody>\n",
       "</table>\n",
       "</div>"
      ],
      "text/plain": [
       "        date  sentiment\n",
       "0 2020-01-02       0.15\n",
       "1 2020-01-02      -0.20\n",
       "2 2020-01-02       0.20\n",
       "3 2020-01-02       0.00\n",
       "4 2020-01-02       0.75"
      ]
     },
     "execution_count": 11,
     "metadata": {},
     "output_type": "execute_result"
    }
   ],
   "source": [
    "daily_sentiment = tweets[['date', 'sentiment']]\n",
    "daily_sentiment.head()"
   ]
  },
  {
   "cell_type": "code",
   "execution_count": 12,
   "metadata": {},
   "outputs": [
    {
     "data": {
      "text/html": [
       "<div>\n",
       "<style scoped>\n",
       "    .dataframe tbody tr th:only-of-type {\n",
       "        vertical-align: middle;\n",
       "    }\n",
       "\n",
       "    .dataframe tbody tr th {\n",
       "        vertical-align: top;\n",
       "    }\n",
       "\n",
       "    .dataframe thead th {\n",
       "        text-align: right;\n",
       "    }\n",
       "</style>\n",
       "<table border=\"1\" class=\"dataframe\">\n",
       "  <thead>\n",
       "    <tr style=\"text-align: right;\">\n",
       "      <th></th>\n",
       "      <th>sentiment</th>\n",
       "    </tr>\n",
       "    <tr>\n",
       "      <th>date</th>\n",
       "      <th></th>\n",
       "    </tr>\n",
       "  </thead>\n",
       "  <tbody>\n",
       "    <tr>\n",
       "      <th>2020-01-01</th>\n",
       "      <td>0.099938</td>\n",
       "    </tr>\n",
       "    <tr>\n",
       "      <th>2020-01-02</th>\n",
       "      <td>0.111398</td>\n",
       "    </tr>\n",
       "    <tr>\n",
       "      <th>2020-01-03</th>\n",
       "      <td>0.073760</td>\n",
       "    </tr>\n",
       "    <tr>\n",
       "      <th>2020-01-04</th>\n",
       "      <td>0.083606</td>\n",
       "    </tr>\n",
       "    <tr>\n",
       "      <th>2020-01-05</th>\n",
       "      <td>0.086658</td>\n",
       "    </tr>\n",
       "  </tbody>\n",
       "</table>\n",
       "</div>"
      ],
      "text/plain": [
       "            sentiment\n",
       "date                 \n",
       "2020-01-01   0.099938\n",
       "2020-01-02   0.111398\n",
       "2020-01-03   0.073760\n",
       "2020-01-04   0.083606\n",
       "2020-01-05   0.086658"
      ]
     },
     "execution_count": 12,
     "metadata": {},
     "output_type": "execute_result"
    }
   ],
   "source": [
    "daily_sentiment = daily_sentiment.resample('D', on='date').mean()\n",
    "daily_sentiment.head()"
   ]
  },
  {
   "cell_type": "code",
   "execution_count": 13,
   "metadata": {},
   "outputs": [
    {
     "data": {
      "image/png": "[encoded data removed]",
      "text/plain": [
       "<Figure size 1152x360 with 1 Axes>"
      ]
     },
     "metadata": {
      "needs_background": "light"
     },
     "output_type": "display_data"
    }
   ],
   "source": [
    "# Find the days with the highest sentiment_2\n",
    "\n",
    "freq_df = daily_sentiment.nlargest(columns=\"sentiment\", n = 10) \n",
    "plt.figure(figsize=(16,5))\n",
    "ax = sns.barplot(data=freq_df, x= freq_df.index.date, y = freq_df['sentiment'])\n",
    "ax.set_ylabel('Average Sentiment Score', fontsize=12)\n",
    "ax.set_xlabel('Date', fontsize=16)\n",
    "ax.set_xticklabels(ax.get_xticklabels(), rotation=40, ha=\"right\", fontsize=12)\n",
    "ax.set_title('Top Daily Sentiment Scores', fontsize=22)\n",
    "plt.show()"
   ]
  },
  {
   "cell_type": "code",
   "execution_count": 14,
   "metadata": {},
   "outputs": [
    {
     "data": {
      "image/png": "[encoded data removed]",
      "text/plain": [
       "<Figure size 1152x360 with 1 Axes>"
      ]
     },
     "metadata": {
      "needs_background": "light"
     },
     "output_type": "display_data"
    }
   ],
   "source": [
    "freq_df = daily_sentiment.nsmallest(columns=\"sentiment\", n = 10) \n",
    "plt.figure(figsize=(16,5))\n",
    "ax = sns.barplot(data=freq_df, x= freq_df.index.date, y = freq_df['sentiment'])\n",
    "ax.set_ylabel('Average Sentiment Score', fontsize=12)\n",
    "ax.set_xlabel('Date', fontsize=16)\n",
    "ax.set_xticklabels(ax.get_xticklabels(), rotation=40, ha=\"right\", fontsize=12)\n",
    "ax.set_title('Lowest Daily Sentiment Scores', fontsize=22)\n",
    "\n",
    "plt.show()"
   ]
  },
  {
   "cell_type": "markdown",
   "metadata": {},
   "source": [
    "### 4. Remove Tweets with Sentiment Scores of 0"
   ]
  },
  {
   "cell_type": "code",
   "execution_count": 15,
   "metadata": {},
   "outputs": [
    {
     "data": {
      "text/html": [
       "<div>\n",
       "<style scoped>\n",
       "    .dataframe tbody tr th:only-of-type {\n",
       "        vertical-align: middle;\n",
       "    }\n",
       "\n",
       "    .dataframe tbody tr th {\n",
       "        vertical-align: top;\n",
       "    }\n",
       "\n",
       "    .dataframe thead th {\n",
       "        text-align: right;\n",
       "    }\n",
       "</style>\n",
       "<table border=\"1\" class=\"dataframe\">\n",
       "  <thead>\n",
       "    <tr style=\"text-align: right;\">\n",
       "      <th></th>\n",
       "      <th>id</th>\n",
       "      <th>date</th>\n",
       "      <th>cleaned_tweet</th>\n",
       "      <th>sentiment</th>\n",
       "      <th>binned</th>\n",
       "    </tr>\n",
       "  </thead>\n",
       "  <tbody>\n",
       "    <tr>\n",
       "      <th>0</th>\n",
       "      <td>1212450794705969152</td>\n",
       "      <td>2020-01-02</td>\n",
       "      <td>fun fact audi register e tron netherlands   sux combine  obviously order magnitude</td>\n",
       "      <td>0.15</td>\n",
       "      <td>(0.0, 0.2]</td>\n",
       "    </tr>\n",
       "    <tr>\n",
       "      <th>1</th>\n",
       "      <td>1212450579634626560</td>\n",
       "      <td>2020-01-02</td>\n",
       "      <td>mf  stock watch shit go damn year miss curve</td>\n",
       "      <td>-0.20</td>\n",
       "      <td>(-0.4, -0.2]</td>\n",
       "    </tr>\n",
       "    <tr>\n",
       "      <th>2</th>\n",
       "      <td>1212450337543602177</td>\n",
       "      <td>2020-01-02</td>\n",
       "      <td>icannot enough june th within day  low reply charts never short lol</td>\n",
       "      <td>0.20</td>\n",
       "      <td>(0.0, 0.2]</td>\n",
       "    </tr>\n",
       "    <tr>\n",
       "      <th>3</th>\n",
       "      <td>1212450309131227141</td>\n",
       "      <td>2020-01-02</td>\n",
       "      <td>gain momentum taiwan ownerstwn     taiwan</td>\n",
       "      <td>0.00</td>\n",
       "      <td>(-0.2, 0.0]</td>\n",
       "    </tr>\n",
       "    <tr>\n",
       "      <th>4</th>\n",
       "      <td>1212449703318753280</td>\n",
       "      <td>2020-01-02</td>\n",
       "      <td>schuldensuehner extrapolate number another two year consider amp occur ice company scramble survive look like  successful</td>\n",
       "      <td>0.75</td>\n",
       "      <td>(0.6, 0.8]</td>\n",
       "    </tr>\n",
       "  </tbody>\n",
       "</table>\n",
       "</div>"
      ],
      "text/plain": [
       "                    id       date  \\\n",
       "0  1212450794705969152 2020-01-02   \n",
       "1  1212450579634626560 2020-01-02   \n",
       "2  1212450337543602177 2020-01-02   \n",
       "3  1212450309131227141 2020-01-02   \n",
       "4  1212449703318753280 2020-01-02   \n",
       "\n",
       "                                                                                                               cleaned_tweet  \\\n",
       "0                                     fun fact audi register e tron netherlands   sux combine  obviously order magnitude       \n",
       "1                                                                               mf  stock watch shit go damn year miss curve   \n",
       "2                                                        icannot enough june th within day  low reply charts never short lol   \n",
       "3                                                                                  gain momentum taiwan ownerstwn     taiwan   \n",
       "4  schuldensuehner extrapolate number another two year consider amp occur ice company scramble survive look like  successful   \n",
       "\n",
       "   sentiment        binned  \n",
       "0       0.15    (0.0, 0.2]  \n",
       "1      -0.20  (-0.4, -0.2]  \n",
       "2       0.20    (0.0, 0.2]  \n",
       "3       0.00   (-0.2, 0.0]  \n",
       "4       0.75    (0.6, 0.8]  "
      ]
     },
     "execution_count": 15,
     "metadata": {},
     "output_type": "execute_result"
    }
   ],
   "source": [
    "remove_s1_0 = tweets.copy()\n",
    "remove_s1_0.head()"
   ]
  },
  {
   "cell_type": "code",
   "execution_count": 16,
   "metadata": {},
   "outputs": [
    {
     "name": "stdout",
     "output_type": "stream",
     "text": [
      "There are 48917 tweets with a Sentiment Score of 0\n"
     ]
    }
   ],
   "source": [
    "# Check how many tweets had sentiment scores of 0\n",
    "print('There are ' + str((remove_s1_0.sentiment == 0).sum()) + ' tweets with a Sentiment Score of 0')"
   ]
  },
  {
   "cell_type": "code",
   "execution_count": 17,
   "metadata": {},
   "outputs": [
    {
     "data": {
      "text/plain": [
       "0"
      ]
     },
     "execution_count": 17,
     "metadata": {},
     "output_type": "execute_result"
    }
   ],
   "source": [
    "# Remove tweets with 0 for sentiment_2 scores\n",
    "remove_0 = tweets.copy()\n",
    "remove_0 = remove_0.rename(columns={'sentiment':'s_no_0'})\n",
    "remove_0 = remove_0[remove_0.s_no_0 != 0]\n",
    "(remove_0.s_no_0 == 0).sum()"
   ]
  },
  {
   "cell_type": "code",
   "execution_count": 18,
   "metadata": {},
   "outputs": [],
   "source": [
    "remove_0 = remove_0.groupby(['date'], as_index = False).mean()"
   ]
  },
  {
   "cell_type": "code",
   "execution_count": 19,
   "metadata": {},
   "outputs": [
    {
     "data": {
      "text/plain": [
       "date      0\n",
       "id        0\n",
       "s_no_0    0\n",
       "dtype: int64"
      ]
     },
     "execution_count": 19,
     "metadata": {},
     "output_type": "execute_result"
    }
   ],
   "source": [
    "# Check that there are no null values\n",
    "\n",
    "remove_0.isnull().sum()"
   ]
  },
  {
   "cell_type": "code",
   "execution_count": 20,
   "metadata": {},
   "outputs": [
    {
     "data": {
      "text/html": [
       "<div>\n",
       "<style scoped>\n",
       "    .dataframe tbody tr th:only-of-type {\n",
       "        vertical-align: middle;\n",
       "    }\n",
       "\n",
       "    .dataframe tbody tr th {\n",
       "        vertical-align: top;\n",
       "    }\n",
       "\n",
       "    .dataframe thead th {\n",
       "        text-align: right;\n",
       "    }\n",
       "</style>\n",
       "<table border=\"1\" class=\"dataframe\">\n",
       "  <thead>\n",
       "    <tr style=\"text-align: right;\">\n",
       "      <th></th>\n",
       "      <th>sentiment</th>\n",
       "      <th>sentiment_final</th>\n",
       "    </tr>\n",
       "    <tr>\n",
       "      <th>Date</th>\n",
       "      <th></th>\n",
       "      <th></th>\n",
       "    </tr>\n",
       "  </thead>\n",
       "  <tbody>\n",
       "    <tr>\n",
       "      <th>2020-01-01</th>\n",
       "      <td>0.099938</td>\n",
       "      <td>0.154961</td>\n",
       "    </tr>\n",
       "    <tr>\n",
       "      <th>2020-01-02</th>\n",
       "      <td>0.111398</td>\n",
       "      <td>0.161528</td>\n",
       "    </tr>\n",
       "    <tr>\n",
       "      <th>2020-01-03</th>\n",
       "      <td>0.073760</td>\n",
       "      <td>0.128297</td>\n",
       "    </tr>\n",
       "    <tr>\n",
       "      <th>2020-01-04</th>\n",
       "      <td>0.083606</td>\n",
       "      <td>0.144796</td>\n",
       "    </tr>\n",
       "    <tr>\n",
       "      <th>2020-01-05</th>\n",
       "      <td>0.086658</td>\n",
       "      <td>0.132267</td>\n",
       "    </tr>\n",
       "  </tbody>\n",
       "</table>\n",
       "</div>"
      ],
      "text/plain": [
       "            sentiment  sentiment_final\n",
       "Date                                  \n",
       "2020-01-01   0.099938         0.154961\n",
       "2020-01-02   0.111398         0.161528\n",
       "2020-01-03   0.073760         0.128297\n",
       "2020-01-04   0.083606         0.144796\n",
       "2020-01-05   0.086658         0.132267"
      ]
     },
     "execution_count": 20,
     "metadata": {},
     "output_type": "execute_result"
    }
   ],
   "source": [
    "# Add updated columns back to early_tweets dataframe\n",
    "daily_sentiment['sentiment_final'] = remove_0.s_no_0.values\n",
    "daily_sentiment.index.names = ['Date']\n",
    "daily_sentiment.head()"
   ]
  },
  {
   "cell_type": "markdown",
   "metadata": {},
   "source": [
    "### 5. Save Sentiment Analysis Results"
   ]
  },
  {
   "cell_type": "code",
   "execution_count": 21,
   "metadata": {},
   "outputs": [],
   "source": [
    "daily_sentiment.to_csv('daily_sentiment_scores.csv')"
   ]
  },
  {
   "cell_type": "code",
   "execution_count": null,
   "metadata": {},
   "outputs": [],
   "source": []
  }
 ],
 "metadata": {
  "kernelspec": {
   "display_name": "Python 3",
   "language": "python",
   "name": "python3"
  },
  "language_info": {
   "codemirror_mode": {
    "name": "ipython",
    "version": 3
   },
   "file_extension": ".py",
   "mimetype": "text/x-python",
   "name": "python",
   "nbconvert_exporter": "python",
   "pygments_lexer": "ipython3",
   "version": "3.8.8"
  }
 },
 "nbformat": 4,
 "nbformat_minor": 2
}
