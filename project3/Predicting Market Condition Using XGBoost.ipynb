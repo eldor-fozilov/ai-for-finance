{
 "cells": [
  {
   "cell_type": "code",
   "execution_count": 1,
   "metadata": {
    "_cell_guid": "b1076dfc-b9ad-4769-8c92-a6c4dae69d19",
    "_uuid": "8f2839f25d086af736a60e9eeb907d3b93b6e0e5"
   },
   "outputs": [],
   "source": [
    "# Pandas and numpy for data manipulation\n",
    "import pandas as pd\n",
    "import numpy as np\n",
    "\n",
    "# visualization\n",
    "import matplotlib.pyplot as plt\n",
    "import seaborn as sns\n",
    "\n",
    "from sklearn.metrics import confusion_matrix\n",
    "from sklearn.metrics import accuracy_score,f1_score\n",
    "\n",
    "# Classification Model Using XGBClassifier\n",
    "from xgboost import XGBClassifier\n",
    "\n",
    "import warnings\n",
    "warnings.filterwarnings(action='ignore')"
   ]
  },
  {
   "cell_type": "code",
   "execution_count": 2,
   "metadata": {},
   "outputs": [],
   "source": [
    "# Setting Seed\n",
    "import random\n",
    "SEED = 14\n",
    "np.random.seed(SEED)\n",
    "random.seed(SEED)"
   ]
  },
  {
   "cell_type": "code",
   "execution_count": 3,
   "metadata": {},
   "outputs": [],
   "source": [
    "df = pd.read_csv('S3_1_data.csv', encoding = 'utf-8-sig', index_col = 0)\n",
    "\n",
    "nan_idx = df.loc[pd.isna(df).any(axis=1), :].index\n",
    "df_original_test = np.log(df.fillna(method='ffill', inplace=False)) - np.log(df.fillna(method='ffill', inplace=False).shift(1))\n",
    "df_original_test.loc[nan_idx, :] = np.nan\n",
    "df_original_test.dropna(inplace=True, axis=0)\n",
    "\n",
    "df_original = df_original_test.copy()\n",
    "\n",
    "# Making Source Variables\n",
    "X_df = df_original.drop(['Republic of Korea (KOSPI)'], axis = 1)\n",
    "\n",
    "# Making Target Variable (KOSPI)\n",
    "y_df = pd.DataFrame()\n",
    "y_df_temp = pd.DataFrame(df_original['Republic of Korea (KOSPI)'])\n",
    "y_df['target'] = [1 if s > 0 else 0 for s in y_df_temp['Republic of Korea (KOSPI)']]\n",
    "y_df.index = X_df.index\n",
    "y_df = y_df.shift(-1)\n",
    "y_df = y_df.dropna()\n",
    "X_df = X_df.iloc[:-1, :]"
   ]
  },
  {
   "cell_type": "code",
   "execution_count": 4,
   "metadata": {},
   "outputs": [],
   "source": [
    "# Making Training Sets and Test Sets\n",
    "threshold_date = \"2021-01-01\"\n",
    "\n",
    "X_train = X_df[X_df.index < threshold_date]\n",
    "X_test = X_df[X_df.index >= threshold_date]\n",
    "y_train = y_df[y_df.index < threshold_date]\n",
    "y_test = y_df[y_df.index >= threshold_date]"
   ]
  },
  {
   "cell_type": "code",
   "execution_count": 5,
   "metadata": {},
   "outputs": [
    {
     "data": {
      "text/plain": [
       "XGBClassifier(base_score=0.5, booster='gbtree', callbacks=None,\n",
       "              colsample_bylevel=1, colsample_bynode=1, colsample_bytree=1,\n",
       "              early_stopping_rounds=None, enable_categorical=False,\n",
       "              eval_metric=None, gamma=0, gpu_id=-1, grow_policy='depthwise',\n",
       "              importance_type=None, interaction_constraints='',\n",
       "              learning_rate=0.300000012, max_bin=256, max_cat_to_onehot=4,\n",
       "              max_delta_step=0, max_depth=6, max_leaves=0, min_child_weight=1,\n",
       "              missing=nan, monotone_constraints='()', n_estimators=100,\n",
       "              n_jobs=0, num_parallel_tree=1, predictor='auto', random_state=14,\n",
       "              reg_alpha=0, reg_lambda=1, ...)"
      ]
     },
     "execution_count": 5,
     "metadata": {},
     "output_type": "execute_result"
    }
   ],
   "source": [
    "# Training Defulat XGBClassifier Models\n",
    "model = XGBClassifier(random_state = SEED)\n",
    "model.fit(X_train, y_train)"
   ]
  },
  {
   "cell_type": "code",
   "execution_count": 6,
   "metadata": {},
   "outputs": [
    {
     "name": "stdout",
     "output_type": "stream",
     "text": [
      "            target\n",
      "date              \n",
      "2021-01-04     1.0\n",
      "2021-01-05     0.0\n",
      "2021-01-06     1.0\n",
      "2021-01-08     0.0\n",
      "2021-01-12     1.0\n",
      "...            ...\n",
      "2021-11-17     0.0\n",
      "2021-11-18     1.0\n",
      "2021-11-22     0.0\n",
      "2021-11-24     0.0\n",
      "2021-11-26     0.0\n",
      "\n",
      "[129 rows x 1 columns]\n"
     ]
    }
   ],
   "source": [
    "# Conducting Test and Classification Results\n",
    "y_pred = pd.DataFrame(model.predict(X_test))\n",
    "y_score = pd.DataFrame(model.predict_proba(X_test)).round(4)\n",
    "\n",
    "print(y_test)\n",
    "\n",
    "y_pred.index = y_test.index\n",
    "y_score.index = y_test.index\n",
    "y_result = pd.concat([y_test, y_pred, y_score], axis = 1)\n",
    "\n",
    "y_result.columns = ['Test Data (Original)', 'Prediction Results', 'Probability of Predicting Bearish Market', 'Probability of Predicting Bullish Market']\n",
    "y_result.to_csv('classification_results.csv', encoding = 'utf-8-sig')"
   ]
  },
  {
   "cell_type": "code",
   "execution_count": 7,
   "metadata": {},
   "outputs": [
    {
     "name": "stdout",
     "output_type": "stream",
     "text": [
      "Accuracy is 0.589\n",
      "F1 Score is 0.649\n"
     ]
    },
    {
     "data": {
      "image/png": "[encoded data removed]",
      "text/plain": [
       "<Figure size 432x288 with 2 Axes>"
      ]
     },
     "metadata": {
      "needs_background": "light"
     },
     "output_type": "display_data"
    }
   ],
   "source": [
    "# Performance Evaluation\n",
    "cf_matrix = confusion_matrix(y_test, y_pred)\n",
    "sns.heatmap(cf_matrix, annot=True, xticklabels = ['Bear', 'Bull'], yticklabels = ['Bear', 'Bull'], cmap=\"YlGnBu\")\n",
    "plt.savefig('confusion_matrix.png')\n",
    "\n",
    "accuracy = accuracy_score(y_test, y_pred)\n",
    "f1 = f1_score(y_test, y_pred)\n",
    "\n",
    "print(\"Accuracy is \" + str(round(accuracy, 3)))\n",
    "print(\"F1 Score is \" + str(round(f1, 3)))"
   ]
  },
  {
   "cell_type": "code",
   "execution_count": null,
   "metadata": {},
   "outputs": [],
   "source": []
  }
 ],
 "metadata": {
  "kernelspec": {
   "display_name": "Python 3",
   "language": "python",
   "name": "python3"
  },
  "language_info": {
   "codemirror_mode": {
    "name": "ipython",
    "version": 3
   },
   "file_extension": ".py",
   "mimetype": "text/x-python",
   "name": "python",
   "nbconvert_exporter": "python",
   "pygments_lexer": "ipython3",
   "version": "3.8.8"
  }
 },
 "nbformat": 4,
 "nbformat_minor": 2
}
